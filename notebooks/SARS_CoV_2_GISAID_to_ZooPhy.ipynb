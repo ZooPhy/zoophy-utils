{
  "nbformat": 4,
  "nbformat_minor": 0,
  "metadata": {
    "colab": {
      "name": "SARS-CoV-2-GISAID-to-ZooPhy.ipynb",
      "provenance": [],
      "collapsed_sections": [],
      "toc_visible": true,
      "authorship_tag": "ABX9TyNHzGA0QA4m7fdZ/JqWhr2c",
      "include_colab_link": true
    },
    "kernelspec": {
      "name": "python3",
      "display_name": "Python 3"
    }
  },
  "cells": [
    {
      "cell_type": "markdown",
      "metadata": {
        "id": "view-in-github",
        "colab_type": "text"
      },
      "source": [
        "<a href=\"https://colab.research.google.com/github/ZooPhy/zoophy-utils/blob/master/notebooks/SARS_CoV_2_GISAID_to_ZooPhy.ipynb\" target=\"_parent\"><img src=\"https://colab.research.google.com/assets/colab-badge.svg\" alt=\"Open In Colab\"/></a>"
      ]
    },
    {
      "cell_type": "markdown",
      "metadata": {
        "id": "XfqYQhQSDBEt",
        "colab_type": "text"
      },
      "source": [
        "# Format GISAID's FASTA files for SARS-CoV-2 for Bayesian discrete virus phylogeography in the ZooPhy pipeline.\n",
        "\n",
        "This notebook converts [GISAID](https://www.gisaid.org/) FASTA files that contain viral sequences for SARS-CoV-2 (a.k.a. COVID19, novel coronavirus, nCoV 2019, hCoV-19) to the FASTA format accepted by the [ZooPhy](https://zodo.asu.edu/zoophy/) pipeline for Discrete Virus Phylogeography.  \n",
        "\n",
        "You can use this python notebook in Google Colab (by clicking the *Colab* link above) or use it within your Jupyter instance."
      ]
    },
    {
      "cell_type": "markdown",
      "metadata": {
        "id": "KAtAgsmLwq1y",
        "colab_type": "text"
      },
      "source": [
        "## Requirements\n",
        "Here is what you require as inputs to this notebook:\n",
        "\n",
        "1. ```FASTA files``` (GISAID sequence files in FASTA format compressed into a .zip file)\n",
        "  * To download GISAID FASTA files, head over to [gisaid.org](https://www.gisaid.org/) and sign in. Sign up if you haven't already.\n",
        "  * Click on ```EpiCoV``` tab to explore the novel coronavirus sequences uploaded by other researchers.\n",
        "  * Filter selected entries based on your study (e.g. *Location*, *Sequence Length*, *Collection Date*), then click on individual sequence files and click on ```Download FASTA```. There doesn't seem to be an option to download multiple files in a single action.\n",
        "  * Select these desired files into a single *.zip* file\n",
        "\n",
        "2. ```Acknowledgement Table``` for the submissions. This is a file called *gisaid_acknowledge_table.xls* that available for download below the table of search results. It contains details about the sequences uploaded to GISAID. The notebook extracts the *Collection Date* and *Geographic Location* from this table.\n",
        "\n"
      ]
    },
    {
      "cell_type": "markdown",
      "metadata": {
        "id": "_P-Xv4eM3CXl",
        "colab_type": "text"
      },
      "source": [
        "# Upload required files"
      ]
    },
    {
      "cell_type": "markdown",
      "metadata": {
        "id": "4sij1zYcGyL2",
        "colab_type": "text"
      },
      "source": [
        "Run the following cell (click the play button) to import necessary libraries required for running this notebook and simple utility functions. It should also produce a button for uploading the ```.zip``` file and the table ```.xls``` file. Select both the files in this step."
      ]
    },
    {
      "cell_type": "code",
      "metadata": {
        "id": "--uX3PHkcGFN",
        "colab_type": "code",
        "colab": {}
      },
      "source": [
        "import os\n",
        "import zipfile\n",
        "import pandas as pd\n",
        "from os import listdir, remove, removedirs, makedirs\n",
        "from os.path import join, exists, isdir, isfile\n",
        "from google.colab import files\n",
        "import shutil\n",
        "\n",
        "def show_files():\n",
        "    print(\"Current Directory Contents:\", [x for x in os.listdir() if x[0] not in ['.', '_']])\n",
        "\n",
        "def clear_file_system():\n",
        "    files_to_delete = [x for x in os.listdir() if x not in ['.', '_']]\n",
        "    while(files_to_delete):\n",
        "        files_to_delete = [x for x in os.listdir() if x not in ['.', '_']]\n",
        "        for x in files_to_delete:\n",
        "            if isfile(x):\n",
        "                remove(x)\n",
        "            else:\n",
        "                shutil.rmtree(x, ignore_errors=True)\n",
        "\n",
        "# remove unnecessary files and upload GISAID files\n",
        "clear_file_system()\n",
        "print(\"Upload the .zip file containing fasta files and .xls file containing the Acknowledgement table\")\n",
        "uploaded = files.upload()\n",
        "if uploaded and len(uploaded)>=2:\n",
        "    show_files()\n",
        "    zipf = [x for x in uploaded if x.endswith('zip')][0]\n",
        "    print(\"\\n\\nzip file selected: '\"+zipf+\"'\" if zipf else \"Please upload file with .zip extension\")\n",
        "    xlsf = [x for x in uploaded if x.endswith('xls')][0]\n",
        "    print(\"xls file selected: '\"+xlsf+\"'\" if xlsf else \"Please upload file with .xls extension\")\n",
        "else:\n",
        "    print(\"\\n\\nPlease select both .zip and .xls files.\")"
      ],
      "execution_count": 0,
      "outputs": []
    },
    {
      "cell_type": "markdown",
      "metadata": {
        "id": "Li7sg4TAHvj0",
        "colab_type": "text"
      },
      "source": [
        "Running the following cell extracts the fasta files from the .zip file into a new directory and extracts metadata from the .xls file."
      ]
    },
    {
      "cell_type": "code",
      "metadata": {
        "id": "pJN4tcXiDAYR",
        "colab_type": "code",
        "colab": {}
      },
      "source": [
        "ZIP_DIR = 'fasta_files'\n",
        "# empty fasta directory if exists\n",
        "if exists(ZIP_DIR):\n",
        "    shutil.rmtree(ZIP_DIR, ignore_errors=True)\n",
        "# create directory\n",
        "makedirs(ZIP_DIR)\n",
        "# unzip the zipfile\n",
        "if zipf and xlsf:\n",
        "    try:\n",
        "        with zipfile.ZipFile(zipf, 'r') as zip_ref:\n",
        "            filelist = [x for x in zip_ref.namelist() if x.strip() and x.strip()[0] not in [\"_\", \".\"] and x.strip().lower().endswith('fasta')]\n",
        "            print(\"Extracting from\", zipf, filelist)\n",
        "            for fl in filelist:\n",
        "                print(\"Extracting\", fl)\n",
        "                zip_ref.extract(fl, path=ZIP_DIR)\n",
        "                if \"/\" in fl:\n",
        "                    sdir, gf = fl.split(\"/\")\n",
        "                    print(\"Moving\", join(join(ZIP_DIR, sdir), gf))\n",
        "                    os.system(\"mv \"+join(join(ZIP_DIR, sdir), gf)+\" \"+ZIP_DIR)\n",
        "                    remove_list.append(join(ZIP_DIR, sdir))\n",
        "    except Exception as e:\n",
        "        print(\"Exception\", e, \" while extracting file\", zipf)\n",
        "    try:\n",
        "        xdf = pd.read_excel(xlsf, header=2, index_col=0)\n",
        "        print(\"Loaded Acknowledgement Table with \", list(xdf.columns))\n",
        "    except Exception as e:\n",
        "        print(\"Exception\", e, \" while processing \", xlsf)\n",
        "else:\n",
        "    print(\"It seems as though the zip and xls files don't exist in Runtime. Please run previous cells again.\")\n"
      ],
      "execution_count": 0,
      "outputs": []
    },
    {
      "cell_type": "markdown",
      "metadata": {
        "id": "mgxz4AAg3of6",
        "colab_type": "text"
      },
      "source": [
        "# Process and download FASTA file"
      ]
    },
    {
      "cell_type": "markdown",
      "metadata": {
        "id": "d5bCc6pT-p9z",
        "colab_type": "text"
      },
      "source": [
        "Write in FASTA format and download the file. "
      ]
    },
    {
      "cell_type": "code",
      "metadata": {
        "id": "6jeThFfCHvJJ",
        "colab_type": "code",
        "colab": {}
      },
      "source": [
        "OUTPUT_FILE = 'zoophy.fasta'\n",
        "MONTH_DICT = {\"01\":\"Jan\",\"02\":\"Feb\",\"03\":\"Mar\",\"04\":\"Apr\",\"05\":\"May\",\"06\":\"Jun\",\"07\":\"Jul\",\"08\":\"Aug\",\"09\":\"Sep\",\"10\":\"Oct\",\"11\":\"Nov\",\"12\":\"Dec\"}\n",
        "count_written = 0\n",
        "with open(OUTPUT_FILE, \"w\") as ofile:\n",
        "    for fastafile in listdir(ZIP_DIR):\n",
        "        try:\n",
        "            defn_added = False\n",
        "            for line in open(join(ZIP_DIR, fastafile)):\n",
        "                if line[0] == \">\":\n",
        "                    name = line.split(\"|\")[0].strip()[1:]\n",
        "                    accession = line.split(\"|\")[-1].strip()\n",
        "                    row = xdf.loc[accession]\n",
        "                    location = \", \".join(reversed([x.strip() for x in row['Location'].split(\"/\")]))\n",
        "                    if len(row['Collection date'].split(\"-\")) < 3:\n",
        "                        continue\n",
        "                    year, month, day = row['Collection date'].split(\"-\")\n",
        "                    month = MONTH_DICT[month]\n",
        "                    collection_date = \"-\".join([day, month, year])\n",
        "                    defn_line = \">\"+\"|\".join([accession, location, collection_date])\n",
        "                    print(defn_line.strip(), file=ofile)\n",
        "                    count_written += 1\n",
        "                    defn_added = True\n",
        "                else:\n",
        "                    if defn_added:\n",
        "                        print(line.strip(), file=ofile)\n",
        "            print(\"\", file=ofile)\n",
        "        except Exception as e:\n",
        "            print(\"Exception\", e, \" while processing fasta file\", fastafile, \" Hence, skipping.\")\n",
        "\n",
        "print(\"Formatted \", count_written, \"/\", len(listdir(ZIP_DIR)), \". Skipped others due to missing data or formatting errors.\")\n",
        "# !grep EPI zoophy.fasta\n",
        "\n",
        "files.download(OUTPUT_FILE)"
      ],
      "execution_count": 0,
      "outputs": []
    }
  ]
}